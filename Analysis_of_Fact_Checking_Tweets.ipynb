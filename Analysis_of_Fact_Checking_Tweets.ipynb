{
  "nbformat": 4,
  "nbformat_minor": 0,
  "metadata": {
    "kernelspec": {
      "display_name": "Python 3",
      "language": "python",
      "name": "python3"
    },
    "language_info": {
      "codemirror_mode": {
        "name": "ipython",
        "version": 3
      },
      "file_extension": ".py",
      "mimetype": "text/x-python",
      "name": "python",
      "nbconvert_exporter": "python",
      "pygments_lexer": "ipython3",
      "version": "3.7.6"
    },
    "colab": {
      "name": "Analysis of Fact-Checking Tweets",
      "provenance": []
    }
  },
  "cells": [
    {
      "cell_type": "markdown",
      "metadata": {
        "id": "UhHSQsaT9U2-",
        "colab_type": "text"
      },
      "source": [
        "Fact-checking organizations have become an important institute for conatining the spread of mis-information (via social channels) Following are the tweets made by twitter handles of these fact-checking organization. \n",
        "\n",
        "* These tweets are taken from 1st Dec 2019 to 2nd June 2020 \n",
        "* Tweets of more than 44 fact checking accounts were gathered\n",
        "* Total tweets 85k+ \n",
        "* As is evident from our hashtag analysis - most of the fact checking was about the Covid19 pandemic \n",
        "\n",
        "*Note: This notebook was executed in a Kaggle notebook, to replicate it please note the links to the original notebook & dataset*\n",
        "\n",
        "Notebook Link: https://www.kaggle.com/skylord/some-initial-analysis\n",
        "\n",
        "Kaggle Dataset: https://www.kaggle.com/skylord/fact-checker-tweets \n"
      ]
    },
    {
      "cell_type": "code",
      "metadata": {
        "_cell_guid": "b1076dfc-b9ad-4769-8c92-a6c4dae69d19",
        "_uuid": "8f2839f25d086af736a60e9eeb907d3b93b6e0e5",
        "id": "SywNwzro9U3A",
        "colab_type": "code",
        "colab": {},
        "outputId": "dfb2dbd5-381c-4e38-f46c-91d23da4dd04"
      },
      "source": [
        "import numpy as np # linear algebra\n",
        "import pandas as pd # data processing, CSV file I/O (e.g. pd.read_csv)\n",
        "from collections import Counter\n",
        "\n",
        "import os\n",
        "for dirname, _, filenames in os.walk('/kaggle/input'):\n",
        "    for filename in filenames:\n",
        "        print(os.path.join(dirname, filename))"
      ],
      "execution_count": 0,
      "outputs": [
        {
          "output_type": "stream",
          "text": [
            "/kaggle/input/fact-checker-tweets/AllTweets_Dec2019_June2020.csv\n",
            "/kaggle/input/fact-checker-tweets/USER_ID.txt\n"
          ],
          "name": "stdout"
        }
      ]
    },
    {
      "cell_type": "code",
      "metadata": {
        "_cell_guid": "79c7e3d0-c299-4dcb-8224-4455121ee9b0",
        "_uuid": "d629ff2d2480ee46fbb7e2d37f6b5fab8052498a",
        "id": "hXbDS-WR9U3F",
        "colab_type": "code",
        "colab": {},
        "outputId": "2f901f3f-fee0-4a82-8a76-c53d9be4bab6"
      },
      "source": [
        "allTweets = pd.read_csv('/kaggle/input/fact-checker-tweets/AllTweets_Dec2019_June2020.csv')\n",
        "print(allTweets.shape)\n",
        "print(allTweets.columns)\n",
        "allTweets.head()"
      ],
      "execution_count": 0,
      "outputs": [
        {
          "output_type": "stream",
          "text": [
            "(85622, 34)\n",
            "Index(['id', 'conversation_id', 'created_at', 'date', 'timezone', 'place',\n",
            "       'tweet', 'hashtags', 'cashtags', 'user_id', 'user_id_str', 'username',\n",
            "       'name', 'day', 'hour', 'link', 'retweet', 'nlikes', 'nreplies',\n",
            "       'nretweets', 'quote_url', 'search', 'near', 'geo', 'source',\n",
            "       'user_rt_id', 'user_rt', 'retweet_id', 'reply_to', 'retweet_date',\n",
            "       'translate', 'trans_src', 'trans_dest', 'Region'],\n",
            "      dtype='object')\n"
          ],
          "name": "stdout"
        },
        {
          "output_type": "stream",
          "text": [
            "/opt/conda/lib/python3.7/site-packages/IPython/core/interactiveshell.py:3063: DtypeWarning: Columns (5,20) have mixed types.Specify dtype option on import or set low_memory=False.\n",
            "  interactivity=interactivity, compiler=compiler, result=result)\n"
          ],
          "name": "stderr"
        },
        {
          "output_type": "execute_result",
          "data": {
            "text/html": [
              "<div>\n",
              "<style scoped>\n",
              "    .dataframe tbody tr th:only-of-type {\n",
              "        vertical-align: middle;\n",
              "    }\n",
              "\n",
              "    .dataframe tbody tr th {\n",
              "        vertical-align: top;\n",
              "    }\n",
              "\n",
              "    .dataframe thead th {\n",
              "        text-align: right;\n",
              "    }\n",
              "</style>\n",
              "<table border=\"1\" class=\"dataframe\">\n",
              "  <thead>\n",
              "    <tr style=\"text-align: right;\">\n",
              "      <th></th>\n",
              "      <th>id</th>\n",
              "      <th>conversation_id</th>\n",
              "      <th>created_at</th>\n",
              "      <th>date</th>\n",
              "      <th>timezone</th>\n",
              "      <th>place</th>\n",
              "      <th>tweet</th>\n",
              "      <th>hashtags</th>\n",
              "      <th>cashtags</th>\n",
              "      <th>user_id</th>\n",
              "      <th>...</th>\n",
              "      <th>source</th>\n",
              "      <th>user_rt_id</th>\n",
              "      <th>user_rt</th>\n",
              "      <th>retweet_id</th>\n",
              "      <th>reply_to</th>\n",
              "      <th>retweet_date</th>\n",
              "      <th>translate</th>\n",
              "      <th>trans_src</th>\n",
              "      <th>trans_dest</th>\n",
              "      <th>Region</th>\n",
              "    </tr>\n",
              "  </thead>\n",
              "  <tbody>\n",
              "    <tr>\n",
              "      <th>0</th>\n",
              "      <td>1267487446809313282</td>\n",
              "      <td>1267487446809313282</td>\n",
              "      <td>1591027530000</td>\n",
              "      <td>2020-06-01 16:05:30</td>\n",
              "      <td>UTC</td>\n",
              "      <td>NaN</td>\n",
              "      <td>Aarti Lalchandani, principal of GVSM Medical C...</td>\n",
              "      <td>['#altnewsfactcheck']</td>\n",
              "      <td>[]</td>\n",
              "      <td>717020664587227136</td>\n",
              "      <td>...</td>\n",
              "      <td>NaN</td>\n",
              "      <td>NaN</td>\n",
              "      <td>NaN</td>\n",
              "      <td>NaN</td>\n",
              "      <td>[{'user_id': '717020664587227136', 'username':...</td>\n",
              "      <td>NaN</td>\n",
              "      <td>NaN</td>\n",
              "      <td>NaN</td>\n",
              "      <td>NaN</td>\n",
              "      <td>Others</td>\n",
              "    </tr>\n",
              "    <tr>\n",
              "      <th>1</th>\n",
              "      <td>1267108282164019202</td>\n",
              "      <td>1267108282164019202</td>\n",
              "      <td>1590937130000</td>\n",
              "      <td>2020-05-31 14:58:50</td>\n",
              "      <td>UTC</td>\n",
              "      <td>NaN</td>\n",
              "      <td>Times Now played three videos during a show on...</td>\n",
              "      <td>['#altnewsfactcheck']</td>\n",
              "      <td>[]</td>\n",
              "      <td>717020664587227136</td>\n",
              "      <td>...</td>\n",
              "      <td>NaN</td>\n",
              "      <td>NaN</td>\n",
              "      <td>NaN</td>\n",
              "      <td>NaN</td>\n",
              "      <td>[{'user_id': '717020664587227136', 'username':...</td>\n",
              "      <td>NaN</td>\n",
              "      <td>NaN</td>\n",
              "      <td>NaN</td>\n",
              "      <td>NaN</td>\n",
              "      <td>Others</td>\n",
              "    </tr>\n",
              "    <tr>\n",
              "      <th>2</th>\n",
              "      <td>1266732527227744256</td>\n",
              "      <td>1266732527227744256</td>\n",
              "      <td>1590847543000</td>\n",
              "      <td>2020-05-30 14:05:43</td>\n",
              "      <td>UTC</td>\n",
              "      <td>NaN</td>\n",
              "      <td>A video of an incident from Surat has been sha...</td>\n",
              "      <td>['#altnewsfactcheck']</td>\n",
              "      <td>[]</td>\n",
              "      <td>717020664587227136</td>\n",
              "      <td>...</td>\n",
              "      <td>NaN</td>\n",
              "      <td>NaN</td>\n",
              "      <td>NaN</td>\n",
              "      <td>NaN</td>\n",
              "      <td>[{'user_id': '717020664587227136', 'username':...</td>\n",
              "      <td>NaN</td>\n",
              "      <td>NaN</td>\n",
              "      <td>NaN</td>\n",
              "      <td>NaN</td>\n",
              "      <td>Others</td>\n",
              "    </tr>\n",
              "    <tr>\n",
              "      <th>3</th>\n",
              "      <td>1266671072671391744</td>\n",
              "      <td>1266671072671391744</td>\n",
              "      <td>1590832891000</td>\n",
              "      <td>2020-05-30 10:01:31</td>\n",
              "      <td>UTC</td>\n",
              "      <td>NaN</td>\n",
              "      <td>A video showing poor condition of Mumbai's KEM...</td>\n",
              "      <td>['#altnewsfactcheck']</td>\n",
              "      <td>[]</td>\n",
              "      <td>717020664587227136</td>\n",
              "      <td>...</td>\n",
              "      <td>NaN</td>\n",
              "      <td>NaN</td>\n",
              "      <td>NaN</td>\n",
              "      <td>NaN</td>\n",
              "      <td>[{'user_id': '717020664587227136', 'username':...</td>\n",
              "      <td>NaN</td>\n",
              "      <td>NaN</td>\n",
              "      <td>NaN</td>\n",
              "      <td>NaN</td>\n",
              "      <td>Others</td>\n",
              "    </tr>\n",
              "    <tr>\n",
              "      <th>4</th>\n",
              "      <td>1266653343767597057</td>\n",
              "      <td>1266653343767597057</td>\n",
              "      <td>1590828665000</td>\n",
              "      <td>2020-05-30 08:51:05</td>\n",
              "      <td>UTC</td>\n",
              "      <td>NaN</td>\n",
              "      <td>Criticising journalists on COVID-19 reporting,...</td>\n",
              "      <td>['#altnewsfactcheck']</td>\n",
              "      <td>[]</td>\n",
              "      <td>717020664587227136</td>\n",
              "      <td>...</td>\n",
              "      <td>NaN</td>\n",
              "      <td>NaN</td>\n",
              "      <td>NaN</td>\n",
              "      <td>NaN</td>\n",
              "      <td>[{'user_id': '717020664587227136', 'username':...</td>\n",
              "      <td>NaN</td>\n",
              "      <td>NaN</td>\n",
              "      <td>NaN</td>\n",
              "      <td>NaN</td>\n",
              "      <td>Others</td>\n",
              "    </tr>\n",
              "  </tbody>\n",
              "</table>\n",
              "<p>5 rows × 34 columns</p>\n",
              "</div>"
            ],
            "text/plain": [
              "                    id      conversation_id     created_at  \\\n",
              "0  1267487446809313282  1267487446809313282  1591027530000   \n",
              "1  1267108282164019202  1267108282164019202  1590937130000   \n",
              "2  1266732527227744256  1266732527227744256  1590847543000   \n",
              "3  1266671072671391744  1266671072671391744  1590832891000   \n",
              "4  1266653343767597057  1266653343767597057  1590828665000   \n",
              "\n",
              "                  date timezone place  \\\n",
              "0  2020-06-01 16:05:30      UTC   NaN   \n",
              "1  2020-05-31 14:58:50      UTC   NaN   \n",
              "2  2020-05-30 14:05:43      UTC   NaN   \n",
              "3  2020-05-30 10:01:31      UTC   NaN   \n",
              "4  2020-05-30 08:51:05      UTC   NaN   \n",
              "\n",
              "                                               tweet               hashtags  \\\n",
              "0  Aarti Lalchandani, principal of GVSM Medical C...  ['#altnewsfactcheck']   \n",
              "1  Times Now played three videos during a show on...  ['#altnewsfactcheck']   \n",
              "2  A video of an incident from Surat has been sha...  ['#altnewsfactcheck']   \n",
              "3  A video showing poor condition of Mumbai's KEM...  ['#altnewsfactcheck']   \n",
              "4  Criticising journalists on COVID-19 reporting,...  ['#altnewsfactcheck']   \n",
              "\n",
              "  cashtags             user_id  ...  source user_rt_id user_rt  retweet_id  \\\n",
              "0       []  717020664587227136  ...     NaN        NaN     NaN         NaN   \n",
              "1       []  717020664587227136  ...     NaN        NaN     NaN         NaN   \n",
              "2       []  717020664587227136  ...     NaN        NaN     NaN         NaN   \n",
              "3       []  717020664587227136  ...     NaN        NaN     NaN         NaN   \n",
              "4       []  717020664587227136  ...     NaN        NaN     NaN         NaN   \n",
              "\n",
              "                                            reply_to retweet_date  translate  \\\n",
              "0  [{'user_id': '717020664587227136', 'username':...          NaN        NaN   \n",
              "1  [{'user_id': '717020664587227136', 'username':...          NaN        NaN   \n",
              "2  [{'user_id': '717020664587227136', 'username':...          NaN        NaN   \n",
              "3  [{'user_id': '717020664587227136', 'username':...          NaN        NaN   \n",
              "4  [{'user_id': '717020664587227136', 'username':...          NaN        NaN   \n",
              "\n",
              "   trans_src  trans_dest  Region  \n",
              "0        NaN         NaN  Others  \n",
              "1        NaN         NaN  Others  \n",
              "2        NaN         NaN  Others  \n",
              "3        NaN         NaN  Others  \n",
              "4        NaN         NaN  Others  \n",
              "\n",
              "[5 rows x 34 columns]"
            ]
          },
          "metadata": {
            "tags": []
          },
          "execution_count": 2
        }
      ]
    },
    {
      "cell_type": "code",
      "metadata": {
        "id": "xYJahq_l9U3I",
        "colab_type": "code",
        "colab": {},
        "outputId": "5128cbec-f3c9-4e5c-cd72-b60d259edaa2"
      },
      "source": [
        "username = Counter(allTweets['username'])\n",
        "print(len(username))\n",
        "username.most_common(10)"
      ],
      "execution_count": 0,
      "outputs": [
        {
          "output_type": "stream",
          "text": [
            "44\n"
          ],
          "name": "stdout"
        },
        {
          "output_type": "execute_result",
          "data": {
            "text/plain": [
              "[('observadorpt', 19714),\n",
              " ('lemondefr', 15486),\n",
              " ('Newtral', 7255),\n",
              " ('snopes', 5746),\n",
              " ('boomlive_in', 4190),\n",
              " ('free_thinker', 3087),\n",
              " ('ZDDK_', 2941),\n",
              " ('PolitiFact', 2816),\n",
              " ('Chequeado', 2435),\n",
              " ('oko_press', 1896)]"
            ]
          },
          "metadata": {
            "tags": []
          },
          "execution_count": 3
        }
      ]
    },
    {
      "cell_type": "code",
      "metadata": {
        "id": "3wbtN_Yc9U3K",
        "colab_type": "code",
        "colab": {},
        "outputId": "3f850bba-94cc-48c0-978e-c222fc68c2f5"
      },
      "source": [
        "# Collapsing the list\n",
        "# https://stackoverflow.com/questions/952914/how-to-make-a-flat-list-out-of-list-of-lists\n",
        "# flat_list = [item for sublist in l for item in sublist]\n",
        "\n",
        "hashtags = list(set(allTweets['hashtags'].apply(lambda x: x.replace(\"[\",'').replace(\"]\", '').replace(\"'\", \"\"))))\n",
        "print(len(hashtags))\n",
        "\n",
        "temp = [text.split(',') for text in hashtags]\n",
        "flat_hashtag = [item.strip() for sublist in temp for item in sublist]\n",
        "flat_hashtag[:10]"
      ],
      "execution_count": 0,
      "outputs": [
        {
          "output_type": "stream",
          "text": [
            "8854\n"
          ],
          "name": "stdout"
        },
        {
          "output_type": "execute_result",
          "data": {
            "text/plain": [
              "['',\n",
              " '#ozeanerwärmung',\n",
              " '#messungen',\n",
              " '#weltmeere',\n",
              " '#ozeane',\n",
              " '#betrug',\n",
              " '#fake',\n",
              " '#amazon',\n",
              " '#marketplace',\n",
              " '#rdc']"
            ]
          },
          "metadata": {
            "tags": []
          },
          "execution_count": 4
        }
      ]
    },
    {
      "cell_type": "code",
      "metadata": {
        "id": "7SAo8KJq9U3N",
        "colab_type": "code",
        "colab": {},
        "outputId": "c952a908-42f9-458f-c793-516fa2057728"
      },
      "source": [
        "hashtags_C = Counter(flat_hashtag)\n",
        "hashtags_C.most_common(20)"
      ],
      "execution_count": 0,
      "outputs": [
        {
          "output_type": "execute_result",
          "data": {
            "text/plain": [
              "[('#coronavirus', 1624),\n",
              " ('#fakenews', 1284),\n",
              " ('#covid19', 1158),\n",
              " ('#boomfactcheck', 922),\n",
              " ('#coronavirusfacts', 759),\n",
              " ('#faktencheck', 445),\n",
              " ('#facebook', 430),\n",
              " ('#coronavirusitalia', 199),\n",
              " ('#covid19italia', 175),\n",
              " ('#corona', 165),\n",
              " ('#whatsapp', 156),\n",
              " ('#thema', 151),\n",
              " ('#fake', 145),\n",
              " ('#covid_19', 142),\n",
              " ('#video', 121),\n",
              " ('#coronavirusoutbreak', 120),\n",
              " ('#factcheck', 111),\n",
              " ('#factchecking', 108),\n",
              " ('#lockdown', 107),\n",
              " ('#datoscoronavirus', 107)]"
            ]
          },
          "metadata": {
            "tags": []
          },
          "execution_count": 5
        }
      ]
    },
    {
      "cell_type": "code",
      "metadata": {
        "id": "nTh3-v2O9U3R",
        "colab_type": "code",
        "colab": {}
      },
      "source": [
        ""
      ],
      "execution_count": 0,
      "outputs": []
    }
  ]
}