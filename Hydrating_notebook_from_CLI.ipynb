{
  "nbformat": 4,
  "nbformat_minor": 0,
  "metadata": {
    "colab": {
      "name": "Hydrating notebook from CLI",
      "provenance": []
    },
    "kernelspec": {
      "name": "python3",
      "display_name": "Python 3"
    },
    "accelerator": "GPU"
  },
  "cells": [
    {
      "cell_type": "markdown",
      "metadata": {
        "id": "awABtmzB5KNF",
        "colab_type": "text"
      },
      "source": [
        "##############################################################################\n",
        "\n",
        "This notebook uses the twarc tool, to hydrate tweet IDs\n",
        "\n",
        "These tweet IDs are collected via the Covid19 Streaming endpoint. \n",
        "\n",
        "##############################################################################"
      ]
    },
    {
      "cell_type": "code",
      "metadata": {
        "id": "LyyQIn8ue420",
        "colab_type": "code",
        "colab": {}
      },
      "source": [
        "from google.colab import drive\n",
        "drive.mount('/content/drive')"
      ],
      "execution_count": 0,
      "outputs": []
    },
    {
      "cell_type": "code",
      "metadata": {
        "id": "m14P-EDSfHyw",
        "colab_type": "code",
        "colab": {}
      },
      "source": [
        "cd 'drive/My Drive/coronawhy'"
      ],
      "execution_count": 0,
      "outputs": []
    },
    {
      "cell_type": "code",
      "metadata": {
        "id": "XaLfwlG4fY41",
        "colab_type": "code",
        "colab": {}
      },
      "source": [
        "!pip install twarc"
      ],
      "execution_count": 0,
      "outputs": []
    },
    {
      "cell_type": "code",
      "metadata": {
        "id": "3dJvpnwDfatf",
        "colab_type": "code",
        "colab": {}
      },
      "source": [
        "!pip install tqdm"
      ],
      "execution_count": 0,
      "outputs": []
    },
    {
      "cell_type": "code",
      "metadata": {
        "id": "KcRZZC5-fch0",
        "colab_type": "code",
        "colab": {}
      },
      "source": [
        "!twarc configure"
      ],
      "execution_count": 0,
      "outputs": []
    },
    {
      "cell_type": "code",
      "metadata": {
        "id": "613oxyTpfgfw",
        "colab_type": "code",
        "colab": {}
      },
      "source": [
        "!python hydra.py"
      ],
      "execution_count": 0,
      "outputs": []
    },
    {
      "cell_type": "code",
      "metadata": {
        "id": "P2boEnoLgB9_",
        "colab_type": "code",
        "colab": {}
      },
      "source": [
        ""
      ],
      "execution_count": 0,
      "outputs": []
    }
  ]
}